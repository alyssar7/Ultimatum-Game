{
 "cells": [
  {
   "cell_type": "markdown",
   "id": "45bcce1e",
   "metadata": {},
   "source": [
    "In general, if df is a Pandas object (such as a dataframe or series), then the Python command df.x(y, w=z) becomes x(df, y, w=z) in Julia. df.loc[a,b,c] becomes loc(df)[a,b,c] (same for iloc and ix). "
   ]
  },
  {
   "cell_type": "code",
   "execution_count": 16,
   "id": "d1afefad",
   "metadata": {},
   "outputs": [
    {
     "name": "stderr",
     "output_type": "stream",
     "text": [
      "\u001b[32m\u001b[1m   Resolving\u001b[22m\u001b[39m package versions...\n",
      "\u001b[32m\u001b[1m  No Changes\u001b[22m\u001b[39m to `~/.julia/environments/v1.7/Project.toml`\n",
      "\u001b[32m\u001b[1m  No Changes\u001b[22m\u001b[39m to `~/.julia/environments/v1.7/Manifest.toml`\n",
      "\u001b[32m\u001b[1m   Resolving\u001b[22m\u001b[39m package versions...\n",
      "\u001b[32m\u001b[1m  No Changes\u001b[22m\u001b[39m to `~/.julia/environments/v1.7/Project.toml`\n",
      "\u001b[32m\u001b[1m  No Changes\u001b[22m\u001b[39m to `~/.julia/environments/v1.7/Manifest.toml`\n",
      "\u001b[32m\u001b[1m   Resolving\u001b[22m\u001b[39m package versions...\n",
      "\u001b[32m\u001b[1m  No Changes\u001b[22m\u001b[39m to `~/.julia/environments/v1.7/Project.toml`\n",
      "\u001b[32m\u001b[1m  No Changes\u001b[22m\u001b[39m to `~/.julia/environments/v1.7/Manifest.toml`\n",
      "\u001b[32m\u001b[1m   Resolving\u001b[22m\u001b[39m package versions...\n",
      "\u001b[32m\u001b[1m  No Changes\u001b[22m\u001b[39m to `~/.julia/environments/v1.7/Project.toml`\n",
      "\u001b[32m\u001b[1m  No Changes\u001b[22m\u001b[39m to `~/.julia/environments/v1.7/Manifest.toml`\n",
      "\u001b[32m\u001b[1m   Resolving\u001b[22m\u001b[39m package versions...\n",
      "\u001b[32m\u001b[1m  No Changes\u001b[22m\u001b[39m to `~/.julia/environments/v1.7/Project.toml`\n",
      "\u001b[32m\u001b[1m  No Changes\u001b[22m\u001b[39m to `~/.julia/environments/v1.7/Manifest.toml`\n",
      "\u001b[32m\u001b[1m   Resolving\u001b[22m\u001b[39m package versions...\n",
      "\u001b[32m\u001b[1m  No Changes\u001b[22m\u001b[39m to `~/.julia/environments/v1.7/Project.toml`\n",
      "\u001b[32m\u001b[1m  No Changes\u001b[22m\u001b[39m to `~/.julia/environments/v1.7/Manifest.toml`\n",
      "\u001b[32m\u001b[1m   Resolving\u001b[22m\u001b[39m package versions...\n",
      "\u001b[32m\u001b[1m  No Changes\u001b[22m\u001b[39m to `~/.julia/environments/v1.7/Project.toml`\n",
      "\u001b[32m\u001b[1m  No Changes\u001b[22m\u001b[39m to `~/.julia/environments/v1.7/Manifest.toml`\n",
      "\u001b[32m\u001b[1m   Resolving\u001b[22m\u001b[39m package versions...\n",
      "\u001b[32m\u001b[1m  No Changes\u001b[22m\u001b[39m to `~/.julia/environments/v1.7/Project.toml`\n",
      "\u001b[32m\u001b[1m  No Changes\u001b[22m\u001b[39m to `~/.julia/environments/v1.7/Manifest.toml`\n",
      "WARNING: using DataFrames.describe in module Main conflicts with an existing identifier.\n"
     ]
    }
   ],
   "source": [
    "import Pkg\n",
    "using Pkg\n",
    "Pkg.add(\"Distributions\")\n",
    "Pkg.add(\"BlackBoxOptim\")\n",
    "Pkg.add(\"ForwardDiff\")\n",
    "Pkg.add(\"Optim\")\n",
    "Pkg.add(\"HTTP\")\n",
    "Pkg.add(\"DataFrames\")\n",
    "Pkg.add(\"Pandas\")\n",
    "Pkg.add(\"Plots\")\n",
    "using Distributions, BlackBoxOptim, ForwardDiff, Optim, HTTP, DataFrames, Pandas, Plots"
   ]
  },
  {
   "cell_type": "code",
   "execution_count": 17,
   "id": "f1b594bf",
   "metadata": {},
   "outputs": [],
   "source": [
    "# StatsPlots and Pandas conflict so if we want to use StatsPlots write plt.plot()\n",
    "import StatsPlots; plt=StatsPlots\n",
    "import Pandas; pd=Pandas;"
   ]
  },
  {
   "cell_type": "code",
   "execution_count": 18,
   "id": "cc1bb478",
   "metadata": {},
   "outputs": [],
   "source": [
    "dataset = read_csv(\"datamerged2.csv\");"
   ]
  },
  {
   "cell_type": "code",
   "execution_count": 19,
   "id": "6403f67b",
   "metadata": {},
   "outputs": [],
   "source": [
    "subset1 = query(dataset,(\"treatment==1 and (round==2 or round==3)\"));"
   ]
  },
  {
   "cell_type": "code",
   "execution_count": 20,
   "id": "e051b580",
   "metadata": {},
   "outputs": [
    {
     "data": {
      "text/html": [
       "<table border=\"1\" class=\"dataframe\">\n",
       "  <thead>\n",
       "    <tr style=\"text-align: right;\">\n",
       "      <th></th>\n",
       "      <th>id</th>\n",
       "      <th>treatment</th>\n",
       "      <th>tofrom</th>\n",
       "      <th>value</th>\n",
       "      <th>role</th>\n",
       "      <th>resp</th>\n",
       "      <th>round</th>\n",
       "      <th>rounds</th>\n",
       "      <th>old</th>\n",
       "    </tr>\n",
       "  </thead>\n",
       "  <tbody>\n",
       "    <tr>\n",
       "      <th>count</th>\n",
       "      <td>422.000000</td>\n",
       "      <td>422.0</td>\n",
       "      <td>422.000000</td>\n",
       "      <td>422.000000</td>\n",
       "      <td>422.0</td>\n",
       "      <td>422.000000</td>\n",
       "      <td>422.000000</td>\n",
       "      <td>422.000000</td>\n",
       "      <td>422.000000</td>\n",
       "    </tr>\n",
       "    <tr>\n",
       "      <th>mean</th>\n",
       "      <td>124.805687</td>\n",
       "      <td>1.0</td>\n",
       "      <td>135.838863</td>\n",
       "      <td>20.284550</td>\n",
       "      <td>0.0</td>\n",
       "      <td>0.819905</td>\n",
       "      <td>2.177725</td>\n",
       "      <td>2.355450</td>\n",
       "      <td>0.867299</td>\n",
       "    </tr>\n",
       "    <tr>\n",
       "      <th>std</th>\n",
       "      <td>81.297525</td>\n",
       "      <td>0.0</td>\n",
       "      <td>85.181224</td>\n",
       "      <td>6.608621</td>\n",
       "      <td>0.0</td>\n",
       "      <td>0.384722</td>\n",
       "      <td>0.382735</td>\n",
       "      <td>0.479218</td>\n",
       "      <td>0.676319</td>\n",
       "    </tr>\n",
       "    <tr>\n",
       "      <th>min</th>\n",
       "      <td>1.000000</td>\n",
       "      <td>1.0</td>\n",
       "      <td>6.000000</td>\n",
       "      <td>4.200000</td>\n",
       "      <td>0.0</td>\n",
       "      <td>0.000000</td>\n",
       "      <td>2.000000</td>\n",
       "      <td>2.000000</td>\n",
       "      <td>0.000000</td>\n",
       "    </tr>\n",
       "    <tr>\n",
       "      <th>25%</th>\n",
       "      <td>25.000000</td>\n",
       "      <td>1.0</td>\n",
       "      <td>28.000000</td>\n",
       "      <td>15.000000</td>\n",
       "      <td>0.0</td>\n",
       "      <td>1.000000</td>\n",
       "      <td>2.000000</td>\n",
       "      <td>2.000000</td>\n",
       "      <td>0.000000</td>\n",
       "    </tr>\n",
       "    <tr>\n",
       "      <th>50%</th>\n",
       "      <td>152.000000</td>\n",
       "      <td>1.0</td>\n",
       "      <td>167.000000</td>\n",
       "      <td>20.000000</td>\n",
       "      <td>0.0</td>\n",
       "      <td>1.000000</td>\n",
       "      <td>2.000000</td>\n",
       "      <td>2.000000</td>\n",
       "      <td>1.000000</td>\n",
       "    </tr>\n",
       "    <tr>\n",
       "      <th>75%</th>\n",
       "      <td>162.000000</td>\n",
       "      <td>1.0</td>\n",
       "      <td>177.000000</td>\n",
       "      <td>25.000000</td>\n",
       "      <td>0.0</td>\n",
       "      <td>1.000000</td>\n",
       "      <td>2.000000</td>\n",
       "      <td>3.000000</td>\n",
       "      <td>1.000000</td>\n",
       "    </tr>\n",
       "    <tr>\n",
       "      <th>max</th>\n",
       "      <td>250.000000</td>\n",
       "      <td>1.0</td>\n",
       "      <td>274.000000</td>\n",
       "      <td>45.000000</td>\n",
       "      <td>0.0</td>\n",
       "      <td>1.000000</td>\n",
       "      <td>3.000000</td>\n",
       "      <td>3.000000</td>\n",
       "      <td>2.000000</td>\n",
       "    </tr>\n",
       "  </tbody>\n",
       "</table>\n"
      ],
      "text/plain": [
       "               id  treatment      tofrom  ...       round      rounds         old\n",
       "count  422.000000      422.0  422.000000  ...  422.000000  422.000000  422.000000\n",
       "mean   124.805687        1.0  135.838863  ...    2.177725    2.355450    0.867299\n",
       "std     81.297525        0.0   85.181224  ...    0.382735    0.479218    0.676319\n",
       "min      1.000000        1.0    6.000000  ...    2.000000    2.000000    0.000000\n",
       "25%     25.000000        1.0   28.000000  ...    2.000000    2.000000    0.000000\n",
       "50%    152.000000        1.0  167.000000  ...    2.000000    2.000000    1.000000\n",
       "75%    162.000000        1.0  177.000000  ...    2.000000    3.000000    1.000000\n",
       "max    250.000000        1.0  274.000000  ...    3.000000    3.000000    2.000000\n",
       "\n",
       "[8 rows x 9 columns]\n"
      ]
     },
     "execution_count": 20,
     "metadata": {},
     "output_type": "execute_result"
    }
   ],
   "source": [
    "describe(subset1)"
   ]
  },
  {
   "cell_type": "code",
   "execution_count": 21,
   "id": "8dfd135b",
   "metadata": {},
   "outputs": [],
   "source": [
    "# Distribution of our loss aversion paramters\n",
    "# Initial guess is a Truncated Normal Distribution with(mean=3, std=1, lb=1, ub=inf)\n",
    "F = TruncatedNormal(3,1,1,Inf);"
   ]
  },
  {
   "cell_type": "code",
   "execution_count": 22,
   "id": "1e0e7206",
   "metadata": {},
   "outputs": [
    {
     "data": {
      "image/svg+xml": [
       "<?xml version=\"1.0\" encoding=\"utf-8\"?>\n",
       "<svg xmlns=\"http://www.w3.org/2000/svg\" xmlns:xlink=\"http://www.w3.org/1999/xlink\" width=\"600\" height=\"400\" viewBox=\"0 0 2400 1600\">\n",
       "<defs>\n",
       "  <clipPath id=\"clip290\">\n",
       "    <rect x=\"0\" y=\"0\" width=\"2400\" height=\"1600\"/>\n",
       "  </clipPath>\n",
       "</defs>\n",
       "<path clip-path=\"url(#clip290)\" d=\"\n",
       "M0 1600 L2400 1600 L2400 0 L0 0  Z\n",
       "  \" fill=\"#ffffff\" fill-rule=\"evenodd\" fill-opacity=\"1\"/>\n",
       "<defs>\n",
       "  <clipPath id=\"clip291\">\n",
       "    <rect x=\"480\" y=\"0\" width=\"1681\" height=\"1600\"/>\n",
       "  </clipPath>\n",
       "</defs>\n",
       "<path clip-path=\"url(#clip290)\" d=\"\n",
       "M186.274 1486.45 L2352.76 1486.45 L2352.76 47.2441 L186.274 47.2441  Z\n",
       "  \" fill=\"#ffffff\" fill-rule=\"evenodd\" fill-opacity=\"1\"/>\n",
       "<defs>\n",
       "  <clipPath id=\"clip292\">\n",
       "    <rect x=\"186\" y=\"47\" width=\"2167\" height=\"1440\"/>\n",
       "  </clipPath>\n",
       "</defs>\n",
       "<polyline clip-path=\"url(#clip292)\" style=\"stroke:#000000; stroke-linecap:butt; stroke-linejoin:round; stroke-width:2; stroke-opacity:0.1; fill:none\" points=\"\n",
       "  474.684,1486.45 474.684,47.2441 \n",
       "  \"/>\n",
       "<polyline clip-path=\"url(#clip292)\" style=\"stroke:#000000; stroke-linecap:butt; stroke-linejoin:round; stroke-width:2; stroke-opacity:0.1; fill:none\" points=\"\n",
       "  928.873,1486.45 928.873,47.2441 \n",
       "  \"/>\n",
       "<polyline clip-path=\"url(#clip292)\" style=\"stroke:#000000; stroke-linecap:butt; stroke-linejoin:round; stroke-width:2; stroke-opacity:0.1; fill:none\" points=\"\n",
       "  1383.06,1486.45 1383.06,47.2441 \n",
       "  \"/>\n",
       "<polyline clip-path=\"url(#clip292)\" style=\"stroke:#000000; stroke-linecap:butt; stroke-linejoin:round; stroke-width:2; stroke-opacity:0.1; fill:none\" points=\"\n",
       "  1837.25,1486.45 1837.25,47.2441 \n",
       "  \"/>\n",
       "<polyline clip-path=\"url(#clip292)\" style=\"stroke:#000000; stroke-linecap:butt; stroke-linejoin:round; stroke-width:2; stroke-opacity:0.1; fill:none\" points=\"\n",
       "  2291.44,1486.45 2291.44,47.2441 \n",
       "  \"/>\n",
       "<polyline clip-path=\"url(#clip290)\" style=\"stroke:#000000; stroke-linecap:butt; stroke-linejoin:round; stroke-width:4; stroke-opacity:1; fill:none\" points=\"\n",
       "  186.274,1486.45 2352.76,1486.45 \n",
       "  \"/>\n",
       "<polyline clip-path=\"url(#clip290)\" style=\"stroke:#000000; stroke-linecap:butt; stroke-linejoin:round; stroke-width:4; stroke-opacity:1; fill:none\" points=\"\n",
       "  474.684,1486.45 474.684,1467.55 \n",
       "  \"/>\n",
       "<polyline clip-path=\"url(#clip290)\" style=\"stroke:#000000; stroke-linecap:butt; stroke-linejoin:round; stroke-width:4; stroke-opacity:1; fill:none\" points=\"\n",
       "  928.873,1486.45 928.873,1467.55 \n",
       "  \"/>\n",
       "<polyline clip-path=\"url(#clip290)\" style=\"stroke:#000000; stroke-linecap:butt; stroke-linejoin:round; stroke-width:4; stroke-opacity:1; fill:none\" points=\"\n",
       "  1383.06,1486.45 1383.06,1467.55 \n",
       "  \"/>\n",
       "<polyline clip-path=\"url(#clip290)\" style=\"stroke:#000000; stroke-linecap:butt; stroke-linejoin:round; stroke-width:4; stroke-opacity:1; fill:none\" points=\"\n",
       "  1837.25,1486.45 1837.25,1467.55 \n",
       "  \"/>\n",
       "<polyline clip-path=\"url(#clip290)\" style=\"stroke:#000000; stroke-linecap:butt; stroke-linejoin:round; stroke-width:4; stroke-opacity:1; fill:none\" points=\"\n",
       "  2291.44,1486.45 2291.44,1467.55 \n",
       "  \"/>\n",
       "<path clip-path=\"url(#clip290)\" d=\"M469.337 1544.91 L485.656 1544.91 L485.656 1548.85 L463.712 1548.85 L463.712 1544.91 Q466.374 1542.16 470.957 1537.53 Q475.564 1532.88 476.744 1531.53 Q478.99 1529.01 479.869 1527.27 Q480.772 1525.51 480.772 1523.82 Q480.772 1521.07 478.828 1519.33 Q476.906 1517.6 473.804 1517.6 Q471.605 1517.6 469.152 1518.36 Q466.721 1519.13 463.943 1520.68 L463.943 1515.95 Q466.767 1514.82 469.221 1514.24 Q471.675 1513.66 473.712 1513.66 Q479.082 1513.66 482.277 1516.35 Q485.471 1519.03 485.471 1523.52 Q485.471 1525.65 484.661 1527.57 Q483.874 1529.47 481.767 1532.07 Q481.189 1532.74 478.087 1535.95 Q474.985 1539.15 469.337 1544.91 Z\" fill=\"#000000\" fill-rule=\"evenodd\" fill-opacity=\"1\" /><path clip-path=\"url(#clip290)\" d=\"M931.882 1518.36 L920.077 1536.81 L931.882 1536.81 L931.882 1518.36 M930.656 1514.29 L936.535 1514.29 L936.535 1536.81 L941.466 1536.81 L941.466 1540.7 L936.535 1540.7 L936.535 1548.85 L931.882 1548.85 L931.882 1540.7 L916.281 1540.7 L916.281 1536.19 L930.656 1514.29 Z\" fill=\"#000000\" fill-rule=\"evenodd\" fill-opacity=\"1\" /><path clip-path=\"url(#clip290)\" d=\"M1383.47 1529.7 Q1380.32 1529.7 1378.47 1531.86 Q1376.64 1534.01 1376.64 1537.76 Q1376.64 1541.49 1378.47 1543.66 Q1380.32 1545.82 1383.47 1545.82 Q1386.62 1545.82 1388.44 1543.66 Q1390.3 1541.49 1390.3 1537.76 Q1390.3 1534.01 1388.44 1531.86 Q1386.62 1529.7 1383.47 1529.7 M1392.75 1515.05 L1392.75 1519.31 Q1390.99 1518.48 1389.18 1518.04 Q1387.4 1517.6 1385.64 1517.6 Q1381.01 1517.6 1378.56 1520.72 Q1376.13 1523.85 1375.78 1530.17 Q1377.15 1528.15 1379.21 1527.09 Q1381.27 1526 1383.75 1526 Q1388.95 1526 1391.96 1529.17 Q1395 1532.32 1395 1537.76 Q1395 1543.08 1391.85 1546.3 Q1388.7 1549.52 1383.47 1549.52 Q1377.47 1549.52 1374.3 1544.94 Q1371.13 1540.33 1371.13 1531.6 Q1371.13 1523.41 1375.02 1518.55 Q1378.91 1513.66 1385.46 1513.66 Q1387.22 1513.66 1389 1514.01 Q1390.81 1514.36 1392.75 1515.05 Z\" fill=\"#000000\" fill-rule=\"evenodd\" fill-opacity=\"1\" /><path clip-path=\"url(#clip290)\" d=\"M1837.25 1532.44 Q1833.92 1532.44 1832 1534.22 Q1830.1 1536 1830.1 1539.13 Q1830.1 1542.25 1832 1544.03 Q1833.92 1545.82 1837.25 1545.82 Q1840.58 1545.82 1842.51 1544.03 Q1844.43 1542.23 1844.43 1539.13 Q1844.43 1536 1842.51 1534.22 Q1840.61 1532.44 1837.25 1532.44 M1832.58 1530.45 Q1829.57 1529.7 1827.88 1527.64 Q1826.21 1525.58 1826.21 1522.62 Q1826.21 1518.48 1829.15 1516.07 Q1832.11 1513.66 1837.25 1513.66 Q1842.41 1513.66 1845.35 1516.07 Q1848.29 1518.48 1848.29 1522.62 Q1848.29 1525.58 1846.6 1527.64 Q1844.94 1529.7 1841.95 1530.45 Q1845.33 1531.23 1847.2 1533.52 Q1849.1 1535.82 1849.1 1539.13 Q1849.1 1544.15 1846.02 1546.83 Q1842.97 1549.52 1837.25 1549.52 Q1831.53 1549.52 1828.46 1546.83 Q1825.4 1544.15 1825.4 1539.13 Q1825.4 1535.82 1827.3 1533.52 Q1829.2 1531.23 1832.58 1530.45 M1830.86 1523.06 Q1830.86 1525.75 1832.53 1527.25 Q1834.22 1528.76 1837.25 1528.76 Q1840.26 1528.76 1841.95 1527.25 Q1843.66 1525.75 1843.66 1523.06 Q1843.66 1520.38 1841.95 1518.87 Q1840.26 1517.37 1837.25 1517.37 Q1834.22 1517.37 1832.53 1518.87 Q1830.86 1520.38 1830.86 1523.06 Z\" fill=\"#000000\" fill-rule=\"evenodd\" fill-opacity=\"1\" /><path clip-path=\"url(#clip290)\" d=\"M2266.13 1544.91 L2273.77 1544.91 L2273.77 1518.55 L2265.46 1520.21 L2265.46 1515.95 L2273.72 1514.29 L2278.4 1514.29 L2278.4 1544.91 L2286.04 1544.91 L2286.04 1548.85 L2266.13 1548.85 L2266.13 1544.91 Z\" fill=\"#000000\" fill-rule=\"evenodd\" fill-opacity=\"1\" /><path clip-path=\"url(#clip290)\" d=\"M2305.48 1517.37 Q2301.87 1517.37 2300.04 1520.93 Q2298.23 1524.47 2298.23 1531.6 Q2298.23 1538.71 2300.04 1542.27 Q2301.87 1545.82 2305.48 1545.82 Q2309.11 1545.82 2310.92 1542.27 Q2312.75 1538.71 2312.75 1531.6 Q2312.75 1524.47 2310.92 1520.93 Q2309.11 1517.37 2305.48 1517.37 M2305.48 1513.66 Q2311.29 1513.66 2314.35 1518.27 Q2317.42 1522.85 2317.42 1531.6 Q2317.42 1540.33 2314.35 1544.94 Q2311.29 1549.52 2305.48 1549.52 Q2299.67 1549.52 2296.59 1544.94 Q2293.54 1540.33 2293.54 1531.6 Q2293.54 1522.85 2296.59 1518.27 Q2299.67 1513.66 2305.48 1513.66 Z\" fill=\"#000000\" fill-rule=\"evenodd\" fill-opacity=\"1\" /><polyline clip-path=\"url(#clip292)\" style=\"stroke:#000000; stroke-linecap:butt; stroke-linejoin:round; stroke-width:2; stroke-opacity:0.1; fill:none\" points=\"\n",
       "  186.274,1445.72 2352.76,1445.72 \n",
       "  \"/>\n",
       "<polyline clip-path=\"url(#clip292)\" style=\"stroke:#000000; stroke-linecap:butt; stroke-linejoin:round; stroke-width:2; stroke-opacity:0.1; fill:none\" points=\"\n",
       "  186.274,1106.28 2352.76,1106.28 \n",
       "  \"/>\n",
       "<polyline clip-path=\"url(#clip292)\" style=\"stroke:#000000; stroke-linecap:butt; stroke-linejoin:round; stroke-width:2; stroke-opacity:0.1; fill:none\" points=\"\n",
       "  186.274,766.846 2352.76,766.846 \n",
       "  \"/>\n",
       "<polyline clip-path=\"url(#clip292)\" style=\"stroke:#000000; stroke-linecap:butt; stroke-linejoin:round; stroke-width:2; stroke-opacity:0.1; fill:none\" points=\"\n",
       "  186.274,427.411 2352.76,427.411 \n",
       "  \"/>\n",
       "<polyline clip-path=\"url(#clip292)\" style=\"stroke:#000000; stroke-linecap:butt; stroke-linejoin:round; stroke-width:2; stroke-opacity:0.1; fill:none\" points=\"\n",
       "  186.274,87.9763 2352.76,87.9763 \n",
       "  \"/>\n",
       "<polyline clip-path=\"url(#clip290)\" style=\"stroke:#000000; stroke-linecap:butt; stroke-linejoin:round; stroke-width:4; stroke-opacity:1; fill:none\" points=\"\n",
       "  186.274,1486.45 186.274,47.2441 \n",
       "  \"/>\n",
       "<polyline clip-path=\"url(#clip290)\" style=\"stroke:#000000; stroke-linecap:butt; stroke-linejoin:round; stroke-width:4; stroke-opacity:1; fill:none\" points=\"\n",
       "  186.274,1445.72 205.172,1445.72 \n",
       "  \"/>\n",
       "<polyline clip-path=\"url(#clip290)\" style=\"stroke:#000000; stroke-linecap:butt; stroke-linejoin:round; stroke-width:4; stroke-opacity:1; fill:none\" points=\"\n",
       "  186.274,1106.28 205.172,1106.28 \n",
       "  \"/>\n",
       "<polyline clip-path=\"url(#clip290)\" style=\"stroke:#000000; stroke-linecap:butt; stroke-linejoin:round; stroke-width:4; stroke-opacity:1; fill:none\" points=\"\n",
       "  186.274,766.846 205.172,766.846 \n",
       "  \"/>\n",
       "<polyline clip-path=\"url(#clip290)\" style=\"stroke:#000000; stroke-linecap:butt; stroke-linejoin:round; stroke-width:4; stroke-opacity:1; fill:none\" points=\"\n",
       "  186.274,427.411 205.172,427.411 \n",
       "  \"/>\n",
       "<polyline clip-path=\"url(#clip290)\" style=\"stroke:#000000; stroke-linecap:butt; stroke-linejoin:round; stroke-width:4; stroke-opacity:1; fill:none\" points=\"\n",
       "  186.274,87.9763 205.172,87.9763 \n",
       "  \"/>\n",
       "<path clip-path=\"url(#clip290)\" d=\"M62.9365 1431.51 Q59.3254 1431.51 57.4967 1435.08 Q55.6912 1438.62 55.6912 1445.75 Q55.6912 1452.86 57.4967 1456.42 Q59.3254 1459.96 62.9365 1459.96 Q66.5707 1459.96 68.3763 1456.42 Q70.205 1452.86 70.205 1445.75 Q70.205 1438.62 68.3763 1435.08 Q66.5707 1431.51 62.9365 1431.51 M62.9365 1427.81 Q68.7467 1427.81 71.8022 1432.42 Q74.8809 1437 74.8809 1445.75 Q74.8809 1454.48 71.8022 1459.08 Q68.7467 1463.67 62.9365 1463.67 Q57.1264 1463.67 54.0477 1459.08 Q50.9921 1454.48 50.9921 1445.75 Q50.9921 1437 54.0477 1432.42 Q57.1264 1427.81 62.9365 1427.81 Z\" fill=\"#000000\" fill-rule=\"evenodd\" fill-opacity=\"1\" /><path clip-path=\"url(#clip290)\" d=\"M83.0984 1457.12 L87.9827 1457.12 L87.9827 1463 L83.0984 1463 L83.0984 1457.12 Z\" fill=\"#000000\" fill-rule=\"evenodd\" fill-opacity=\"1\" /><path clip-path=\"url(#clip290)\" d=\"M108.168 1431.51 Q104.557 1431.51 102.728 1435.08 Q100.922 1438.62 100.922 1445.75 Q100.922 1452.86 102.728 1456.42 Q104.557 1459.96 108.168 1459.96 Q111.802 1459.96 113.608 1456.42 Q115.436 1452.86 115.436 1445.75 Q115.436 1438.62 113.608 1435.08 Q111.802 1431.51 108.168 1431.51 M108.168 1427.81 Q113.978 1427.81 117.033 1432.42 Q120.112 1437 120.112 1445.75 Q120.112 1454.48 117.033 1459.08 Q113.978 1463.67 108.168 1463.67 Q102.358 1463.67 99.2789 1459.08 Q96.2234 1454.48 96.2234 1445.75 Q96.2234 1437 99.2789 1432.42 Q102.358 1427.81 108.168 1427.81 Z\" fill=\"#000000\" fill-rule=\"evenodd\" fill-opacity=\"1\" /><path clip-path=\"url(#clip290)\" d=\"M138.33 1431.51 Q134.719 1431.51 132.89 1435.08 Q131.084 1438.62 131.084 1445.75 Q131.084 1452.86 132.89 1456.42 Q134.719 1459.96 138.33 1459.96 Q141.964 1459.96 143.769 1456.42 Q145.598 1452.86 145.598 1445.75 Q145.598 1438.62 143.769 1435.08 Q141.964 1431.51 138.33 1431.51 M138.33 1427.81 Q144.14 1427.81 147.195 1432.42 Q150.274 1437 150.274 1445.75 Q150.274 1454.48 147.195 1459.08 Q144.14 1463.67 138.33 1463.67 Q132.519 1463.67 129.441 1459.08 Q126.385 1454.48 126.385 1445.75 Q126.385 1437 129.441 1432.42 Q132.519 1427.81 138.33 1427.81 Z\" fill=\"#000000\" fill-rule=\"evenodd\" fill-opacity=\"1\" /><path clip-path=\"url(#clip290)\" d=\"M63.9319 1092.08 Q60.3208 1092.08 58.4921 1095.64 Q56.6865 1099.19 56.6865 1106.32 Q56.6865 1113.42 58.4921 1116.99 Q60.3208 1120.53 63.9319 1120.53 Q67.5661 1120.53 69.3717 1116.99 Q71.2004 1113.42 71.2004 1106.32 Q71.2004 1099.19 69.3717 1095.64 Q67.5661 1092.08 63.9319 1092.08 M63.9319 1088.38 Q69.742 1088.38 72.7976 1092.98 Q75.8763 1097.57 75.8763 1106.32 Q75.8763 1115.04 72.7976 1119.65 Q69.742 1124.23 63.9319 1124.23 Q58.1217 1124.23 55.043 1119.65 Q51.9875 1115.04 51.9875 1106.32 Q51.9875 1097.57 55.043 1092.98 Q58.1217 1088.38 63.9319 1088.38 Z\" fill=\"#000000\" fill-rule=\"evenodd\" fill-opacity=\"1\" /><path clip-path=\"url(#clip290)\" d=\"M84.0938 1117.68 L88.978 1117.68 L88.978 1123.56 L84.0938 1123.56 L84.0938 1117.68 Z\" fill=\"#000000\" fill-rule=\"evenodd\" fill-opacity=\"1\" /><path clip-path=\"url(#clip290)\" d=\"M103.191 1119.63 L119.51 1119.63 L119.51 1123.56 L97.566 1123.56 L97.566 1119.63 Q100.228 1116.87 104.811 1112.24 Q109.418 1107.59 110.598 1106.25 Q112.844 1103.72 113.723 1101.99 Q114.626 1100.23 114.626 1098.54 Q114.626 1095.78 112.682 1094.05 Q110.76 1092.31 107.658 1092.31 Q105.459 1092.31 103.006 1093.07 Q100.575 1093.84 97.7974 1095.39 L97.7974 1090.67 Q100.621 1089.53 103.075 1088.95 Q105.529 1088.38 107.566 1088.38 Q112.936 1088.38 116.131 1091.06 Q119.325 1093.75 119.325 1098.24 Q119.325 1100.37 118.515 1102.29 Q117.728 1104.19 115.621 1106.78 Q115.043 1107.45 111.941 1110.67 Q108.839 1113.86 103.191 1119.63 Z\" fill=\"#000000\" fill-rule=\"evenodd\" fill-opacity=\"1\" /><path clip-path=\"url(#clip290)\" d=\"M129.371 1089 L147.728 1089 L147.728 1092.94 L133.654 1092.94 L133.654 1101.41 Q134.672 1101.06 135.691 1100.9 Q136.709 1100.71 137.728 1100.71 Q143.515 1100.71 146.894 1103.89 Q150.274 1107.06 150.274 1112.47 Q150.274 1118.05 146.802 1121.15 Q143.33 1124.23 137.01 1124.23 Q134.834 1124.23 132.566 1123.86 Q130.32 1123.49 127.913 1122.75 L127.913 1118.05 Q129.996 1119.19 132.219 1119.74 Q134.441 1120.3 136.918 1120.3 Q140.922 1120.3 143.26 1118.19 Q145.598 1116.08 145.598 1112.47 Q145.598 1108.86 143.26 1106.76 Q140.922 1104.65 136.918 1104.65 Q135.043 1104.65 133.168 1105.07 Q131.316 1105.48 129.371 1106.36 L129.371 1089 Z\" fill=\"#000000\" fill-rule=\"evenodd\" fill-opacity=\"1\" /><path clip-path=\"url(#clip290)\" d=\"M62.9365 752.645 Q59.3254 752.645 57.4967 756.209 Q55.6912 759.751 55.6912 766.881 Q55.6912 773.987 57.4967 777.552 Q59.3254 781.094 62.9365 781.094 Q66.5707 781.094 68.3763 777.552 Q70.205 773.987 70.205 766.881 Q70.205 759.751 68.3763 756.209 Q66.5707 752.645 62.9365 752.645 M62.9365 748.941 Q68.7467 748.941 71.8022 753.547 Q74.8809 758.131 74.8809 766.881 Q74.8809 775.608 71.8022 780.214 Q68.7467 784.797 62.9365 784.797 Q57.1264 784.797 54.0477 780.214 Q50.9921 775.608 50.9921 766.881 Q50.9921 758.131 54.0477 753.547 Q57.1264 748.941 62.9365 748.941 Z\" fill=\"#000000\" fill-rule=\"evenodd\" fill-opacity=\"1\" /><path clip-path=\"url(#clip290)\" d=\"M83.0984 778.246 L87.9827 778.246 L87.9827 784.126 L83.0984 784.126 L83.0984 778.246 Z\" fill=\"#000000\" fill-rule=\"evenodd\" fill-opacity=\"1\" /><path clip-path=\"url(#clip290)\" d=\"M98.2141 749.566 L116.57 749.566 L116.57 753.501 L102.496 753.501 L102.496 761.973 Q103.515 761.626 104.534 761.464 Q105.552 761.279 106.571 761.279 Q112.358 761.279 115.737 764.45 Q119.117 767.621 119.117 773.038 Q119.117 778.617 115.645 781.719 Q112.172 784.797 105.853 784.797 Q103.677 784.797 101.409 784.427 Q99.1632 784.057 96.7558 783.316 L96.7558 778.617 Q98.8391 779.751 101.061 780.307 Q103.284 780.862 105.76 780.862 Q109.765 780.862 112.103 778.756 Q114.441 776.649 114.441 773.038 Q114.441 769.427 112.103 767.321 Q109.765 765.214 105.76 765.214 Q103.885 765.214 102.01 765.631 Q100.159 766.047 98.2141 766.927 L98.2141 749.566 Z\" fill=\"#000000\" fill-rule=\"evenodd\" fill-opacity=\"1\" /><path clip-path=\"url(#clip290)\" d=\"M138.33 752.645 Q134.719 752.645 132.89 756.209 Q131.084 759.751 131.084 766.881 Q131.084 773.987 132.89 777.552 Q134.719 781.094 138.33 781.094 Q141.964 781.094 143.769 777.552 Q145.598 773.987 145.598 766.881 Q145.598 759.751 143.769 756.209 Q141.964 752.645 138.33 752.645 M138.33 748.941 Q144.14 748.941 147.195 753.547 Q150.274 758.131 150.274 766.881 Q150.274 775.608 147.195 780.214 Q144.14 784.797 138.33 784.797 Q132.519 784.797 129.441 780.214 Q126.385 775.608 126.385 766.881 Q126.385 758.131 129.441 753.547 Q132.519 748.941 138.33 748.941 Z\" fill=\"#000000\" fill-rule=\"evenodd\" fill-opacity=\"1\" /><path clip-path=\"url(#clip290)\" d=\"M63.9319 413.21 Q60.3208 413.21 58.4921 416.775 Q56.6865 420.316 56.6865 427.446 Q56.6865 434.552 58.4921 438.117 Q60.3208 441.659 63.9319 441.659 Q67.5661 441.659 69.3717 438.117 Q71.2004 434.552 71.2004 427.446 Q71.2004 420.316 69.3717 416.775 Q67.5661 413.21 63.9319 413.21 M63.9319 409.506 Q69.742 409.506 72.7976 414.113 Q75.8763 418.696 75.8763 427.446 Q75.8763 436.173 72.7976 440.779 Q69.742 445.362 63.9319 445.362 Q58.1217 445.362 55.043 440.779 Q51.9875 436.173 51.9875 427.446 Q51.9875 418.696 55.043 414.113 Q58.1217 409.506 63.9319 409.506 Z\" fill=\"#000000\" fill-rule=\"evenodd\" fill-opacity=\"1\" /><path clip-path=\"url(#clip290)\" d=\"M84.0938 438.812 L88.978 438.812 L88.978 444.691 L84.0938 444.691 L84.0938 438.812 Z\" fill=\"#000000\" fill-rule=\"evenodd\" fill-opacity=\"1\" /><path clip-path=\"url(#clip290)\" d=\"M97.9826 410.131 L120.205 410.131 L120.205 412.122 L107.658 444.691 L102.774 444.691 L114.58 414.066 L97.9826 414.066 L97.9826 410.131 Z\" fill=\"#000000\" fill-rule=\"evenodd\" fill-opacity=\"1\" /><path clip-path=\"url(#clip290)\" d=\"M129.371 410.131 L147.728 410.131 L147.728 414.066 L133.654 414.066 L133.654 422.538 Q134.672 422.191 135.691 422.029 Q136.709 421.844 137.728 421.844 Q143.515 421.844 146.894 425.015 Q150.274 428.187 150.274 433.603 Q150.274 439.182 146.802 442.284 Q143.33 445.362 137.01 445.362 Q134.834 445.362 132.566 444.992 Q130.32 444.622 127.913 443.881 L127.913 439.182 Q129.996 440.316 132.219 440.872 Q134.441 441.427 136.918 441.427 Q140.922 441.427 143.26 439.321 Q145.598 437.214 145.598 433.603 Q145.598 429.992 143.26 427.886 Q140.922 425.779 136.918 425.779 Q135.043 425.779 133.168 426.196 Q131.316 426.613 129.371 427.492 L129.371 410.131 Z\" fill=\"#000000\" fill-rule=\"evenodd\" fill-opacity=\"1\" /><path clip-path=\"url(#clip290)\" d=\"M53.7467 101.321 L61.3856 101.321 L61.3856 74.9555 L53.0754 76.6222 L53.0754 72.3629 L61.3393 70.6963 L66.0152 70.6963 L66.0152 101.321 L73.654 101.321 L73.654 105.256 L53.7467 105.256 L53.7467 101.321 Z\" fill=\"#000000\" fill-rule=\"evenodd\" fill-opacity=\"1\" /><path clip-path=\"url(#clip290)\" d=\"M83.0984 99.3767 L87.9827 99.3767 L87.9827 105.256 L83.0984 105.256 L83.0984 99.3767 Z\" fill=\"#000000\" fill-rule=\"evenodd\" fill-opacity=\"1\" /><path clip-path=\"url(#clip290)\" d=\"M108.168 73.775 Q104.557 73.775 102.728 77.3398 Q100.922 80.8814 100.922 88.011 Q100.922 95.1174 102.728 98.6822 Q104.557 102.224 108.168 102.224 Q111.802 102.224 113.608 98.6822 Q115.436 95.1174 115.436 88.011 Q115.436 80.8814 113.608 77.3398 Q111.802 73.775 108.168 73.775 M108.168 70.0713 Q113.978 70.0713 117.033 74.6777 Q120.112 79.261 120.112 88.011 Q120.112 96.7378 117.033 101.344 Q113.978 105.928 108.168 105.928 Q102.358 105.928 99.2789 101.344 Q96.2234 96.7378 96.2234 88.011 Q96.2234 79.261 99.2789 74.6777 Q102.358 70.0713 108.168 70.0713 Z\" fill=\"#000000\" fill-rule=\"evenodd\" fill-opacity=\"1\" /><path clip-path=\"url(#clip290)\" d=\"M138.33 73.775 Q134.719 73.775 132.89 77.3398 Q131.084 80.8814 131.084 88.011 Q131.084 95.1174 132.89 98.6822 Q134.719 102.224 138.33 102.224 Q141.964 102.224 143.769 98.6822 Q145.598 95.1174 145.598 88.011 Q145.598 80.8814 143.769 77.3398 Q141.964 73.775 138.33 73.775 M138.33 70.0713 Q144.14 70.0713 147.195 74.6777 Q150.274 79.261 150.274 88.011 Q150.274 96.7378 147.195 101.344 Q144.14 105.928 138.33 105.928 Q132.519 105.928 129.441 101.344 Q126.385 96.7378 126.385 88.011 Q126.385 79.261 129.441 74.6777 Q132.519 70.0713 138.33 70.0713 Z\" fill=\"#000000\" fill-rule=\"evenodd\" fill-opacity=\"1\" /><polyline clip-path=\"url(#clip292)\" style=\"stroke:#009af9; stroke-linecap:butt; stroke-linejoin:round; stroke-width:4; stroke-opacity:1; fill:none\" points=\"\n",
       "  247.59,1445.72 252.579,1444.03 257.569,1442.27 262.559,1440.43 267.549,1438.52 313.689,1416.57 359.828,1385.54 405.968,1343.45 452.107,1288.66 479.835,1249.18 \n",
       "  507.563,1204.71 535.291,1155.35 563.019,1101.38 609.906,1000.91 656.793,891.732 707.726,768.136 758.658,645.261 805.614,537.78 852.569,439.961 902.91,349.03 \n",
       "  953.251,274.248 982.414,238.405 1011.58,207.815 1040.74,182.134 1069.9,160.927 1121.73,132.728 1173.57,114.204 1219.02,103.779 1264.47,97.1598 1363.58,90.4533 \n",
       "  1463.28,88.5311 1573.51,88.0622 1678.39,87.9881 1787.45,87.9775 1879.25,87.9764 1991.32,87.9763 2096.68,87.9763 2265.46,87.9763 2291.44,87.9763 \n",
       "  \"/>\n",
       "<path clip-path=\"url(#clip290)\" d=\"\n",
       "M1988.11 198.898 L2280.54 198.898 L2280.54 95.2176 L1988.11 95.2176  Z\n",
       "  \" fill=\"#ffffff\" fill-rule=\"evenodd\" fill-opacity=\"1\"/>\n",
       "<polyline clip-path=\"url(#clip290)\" style=\"stroke:#000000; stroke-linecap:butt; stroke-linejoin:round; stroke-width:4; stroke-opacity:1; fill:none\" points=\"\n",
       "  1988.11,198.898 2280.54,198.898 2280.54,95.2176 1988.11,95.2176 1988.11,198.898 \n",
       "  \"/>\n",
       "<polyline clip-path=\"url(#clip290)\" style=\"stroke:#009af9; stroke-linecap:butt; stroke-linejoin:round; stroke-width:4; stroke-opacity:1; fill:none\" points=\"\n",
       "  2012.11,147.058 2156.11,147.058 \n",
       "  \"/>\n",
       "<path clip-path=\"url(#clip290)\" d=\"M2193.95 166.745 Q2192.15 171.375 2190.43 172.787 Q2188.72 174.199 2185.85 174.199 L2182.45 174.199 L2182.45 170.634 L2184.95 170.634 Q2186.71 170.634 2187.68 169.8 Q2188.65 168.967 2189.83 165.865 L2190.6 163.921 L2180.11 138.412 L2184.62 138.412 L2192.73 158.689 L2200.83 138.412 L2205.34 138.412 L2193.95 166.745 Z\" fill=\"#000000\" fill-rule=\"evenodd\" fill-opacity=\"1\" /><path clip-path=\"url(#clip290)\" d=\"M2212.63 160.402 L2220.27 160.402 L2220.27 134.037 L2211.96 135.703 L2211.96 131.444 L2220.23 129.778 L2224.9 129.778 L2224.9 160.402 L2232.54 160.402 L2232.54 164.338 L2212.63 164.338 L2212.63 160.402 Z\" fill=\"#000000\" fill-rule=\"evenodd\" fill-opacity=\"1\" /></svg>\n"
      ]
     },
     "execution_count": 22,
     "metadata": {},
     "output_type": "execute_result"
    }
   ],
   "source": [
    "plt.plot(x -> cdf(F,x),1,10)"
   ]
  },
  {
   "cell_type": "code",
   "execution_count": 23,
   "id": "255c081b",
   "metadata": {},
   "outputs": [
    {
     "data": {
      "image/svg+xml": [
       "<?xml version=\"1.0\" encoding=\"utf-8\"?>\n",
       "<svg xmlns=\"http://www.w3.org/2000/svg\" xmlns:xlink=\"http://www.w3.org/1999/xlink\" width=\"600\" height=\"400\" viewBox=\"0 0 2400 1600\">\n",
       "<defs>\n",
       "  <clipPath id=\"clip330\">\n",
       "    <rect x=\"0\" y=\"0\" width=\"2400\" height=\"1600\"/>\n",
       "  </clipPath>\n",
       "</defs>\n",
       "<path clip-path=\"url(#clip330)\" d=\"\n",
       "M0 1600 L2400 1600 L2400 0 L0 0  Z\n",
       "  \" fill=\"#ffffff\" fill-rule=\"evenodd\" fill-opacity=\"1\"/>\n",
       "<defs>\n",
       "  <clipPath id=\"clip331\">\n",
       "    <rect x=\"480\" y=\"0\" width=\"1681\" height=\"1600\"/>\n",
       "  </clipPath>\n",
       "</defs>\n",
       "<path clip-path=\"url(#clip330)\" d=\"\n",
       "M156.598 1486.45 L2352.76 1486.45 L2352.76 47.2441 L156.598 47.2441  Z\n",
       "  \" fill=\"#ffffff\" fill-rule=\"evenodd\" fill-opacity=\"1\"/>\n",
       "<defs>\n",
       "  <clipPath id=\"clip332\">\n",
       "    <rect x=\"156\" y=\"47\" width=\"2197\" height=\"1440\"/>\n",
       "  </clipPath>\n",
       "</defs>\n",
       "<polyline clip-path=\"url(#clip332)\" style=\"stroke:#000000; stroke-linecap:butt; stroke-linejoin:round; stroke-width:2; stroke-opacity:0.1; fill:none\" points=\"\n",
       "  448.959,1486.45 448.959,47.2441 \n",
       "  \"/>\n",
       "<polyline clip-path=\"url(#clip332)\" style=\"stroke:#000000; stroke-linecap:butt; stroke-linejoin:round; stroke-width:2; stroke-opacity:0.1; fill:none\" points=\"\n",
       "  909.369,1486.45 909.369,47.2441 \n",
       "  \"/>\n",
       "<polyline clip-path=\"url(#clip332)\" style=\"stroke:#000000; stroke-linecap:butt; stroke-linejoin:round; stroke-width:2; stroke-opacity:0.1; fill:none\" points=\"\n",
       "  1369.78,1486.45 1369.78,47.2441 \n",
       "  \"/>\n",
       "<polyline clip-path=\"url(#clip332)\" style=\"stroke:#000000; stroke-linecap:butt; stroke-linejoin:round; stroke-width:2; stroke-opacity:0.1; fill:none\" points=\"\n",
       "  1830.19,1486.45 1830.19,47.2441 \n",
       "  \"/>\n",
       "<polyline clip-path=\"url(#clip332)\" style=\"stroke:#000000; stroke-linecap:butt; stroke-linejoin:round; stroke-width:2; stroke-opacity:0.1; fill:none\" points=\"\n",
       "  2290.6,1486.45 2290.6,47.2441 \n",
       "  \"/>\n",
       "<polyline clip-path=\"url(#clip330)\" style=\"stroke:#000000; stroke-linecap:butt; stroke-linejoin:round; stroke-width:4; stroke-opacity:1; fill:none\" points=\"\n",
       "  156.598,1486.45 2352.76,1486.45 \n",
       "  \"/>\n",
       "<polyline clip-path=\"url(#clip330)\" style=\"stroke:#000000; stroke-linecap:butt; stroke-linejoin:round; stroke-width:4; stroke-opacity:1; fill:none\" points=\"\n",
       "  448.959,1486.45 448.959,1467.55 \n",
       "  \"/>\n",
       "<polyline clip-path=\"url(#clip330)\" style=\"stroke:#000000; stroke-linecap:butt; stroke-linejoin:round; stroke-width:4; stroke-opacity:1; fill:none\" points=\"\n",
       "  909.369,1486.45 909.369,1467.55 \n",
       "  \"/>\n",
       "<polyline clip-path=\"url(#clip330)\" style=\"stroke:#000000; stroke-linecap:butt; stroke-linejoin:round; stroke-width:4; stroke-opacity:1; fill:none\" points=\"\n",
       "  1369.78,1486.45 1369.78,1467.55 \n",
       "  \"/>\n",
       "<polyline clip-path=\"url(#clip330)\" style=\"stroke:#000000; stroke-linecap:butt; stroke-linejoin:round; stroke-width:4; stroke-opacity:1; fill:none\" points=\"\n",
       "  1830.19,1486.45 1830.19,1467.55 \n",
       "  \"/>\n",
       "<polyline clip-path=\"url(#clip330)\" style=\"stroke:#000000; stroke-linecap:butt; stroke-linejoin:round; stroke-width:4; stroke-opacity:1; fill:none\" points=\"\n",
       "  2290.6,1486.45 2290.6,1467.55 \n",
       "  \"/>\n",
       "<path clip-path=\"url(#clip330)\" d=\"M443.612 1544.91 L459.931 1544.91 L459.931 1548.85 L437.987 1548.85 L437.987 1544.91 Q440.649 1542.16 445.232 1537.53 Q449.838 1532.88 451.019 1531.53 Q453.264 1529.01 454.144 1527.27 Q455.047 1525.51 455.047 1523.82 Q455.047 1521.07 453.102 1519.33 Q451.181 1517.6 448.079 1517.6 Q445.88 1517.6 443.426 1518.36 Q440.996 1519.13 438.218 1520.68 L438.218 1515.95 Q441.042 1514.82 443.496 1514.24 Q445.95 1513.66 447.987 1513.66 Q453.357 1513.66 456.551 1516.35 Q459.746 1519.03 459.746 1523.52 Q459.746 1525.65 458.936 1527.57 Q458.149 1529.47 456.042 1532.07 Q455.463 1532.74 452.362 1535.95 Q449.26 1539.15 443.612 1544.91 Z\" fill=\"#000000\" fill-rule=\"evenodd\" fill-opacity=\"1\" /><path clip-path=\"url(#clip330)\" d=\"M912.379 1518.36 L900.573 1536.81 L912.379 1536.81 L912.379 1518.36 M911.152 1514.29 L917.031 1514.29 L917.031 1536.81 L921.962 1536.81 L921.962 1540.7 L917.031 1540.7 L917.031 1548.85 L912.379 1548.85 L912.379 1540.7 L896.777 1540.7 L896.777 1536.19 L911.152 1514.29 Z\" fill=\"#000000\" fill-rule=\"evenodd\" fill-opacity=\"1\" /><path clip-path=\"url(#clip330)\" d=\"M1370.18 1529.7 Q1367.04 1529.7 1365.18 1531.86 Q1363.36 1534.01 1363.36 1537.76 Q1363.36 1541.49 1365.18 1543.66 Q1367.04 1545.82 1370.18 1545.82 Q1373.33 1545.82 1375.16 1543.66 Q1377.01 1541.49 1377.01 1537.76 Q1377.01 1534.01 1375.16 1531.86 Q1373.33 1529.7 1370.18 1529.7 M1379.47 1515.05 L1379.47 1519.31 Q1377.71 1518.48 1375.9 1518.04 Q1374.12 1517.6 1372.36 1517.6 Q1367.73 1517.6 1365.28 1520.72 Q1362.85 1523.85 1362.5 1530.17 Q1363.87 1528.15 1365.93 1527.09 Q1367.99 1526 1370.46 1526 Q1375.67 1526 1378.68 1529.17 Q1381.71 1532.32 1381.71 1537.76 Q1381.71 1543.08 1378.56 1546.3 Q1375.42 1549.52 1370.18 1549.52 Q1364.19 1549.52 1361.02 1544.94 Q1357.85 1540.33 1357.85 1531.6 Q1357.85 1523.41 1361.74 1518.55 Q1365.62 1513.66 1372.18 1513.66 Q1373.93 1513.66 1375.72 1514.01 Q1377.52 1514.36 1379.47 1515.05 Z\" fill=\"#000000\" fill-rule=\"evenodd\" fill-opacity=\"1\" /><path clip-path=\"url(#clip330)\" d=\"M1830.19 1532.44 Q1826.86 1532.44 1824.94 1534.22 Q1823.04 1536 1823.04 1539.13 Q1823.04 1542.25 1824.94 1544.03 Q1826.86 1545.82 1830.19 1545.82 Q1833.52 1545.82 1835.44 1544.03 Q1837.37 1542.23 1837.37 1539.13 Q1837.37 1536 1835.44 1534.22 Q1833.55 1532.44 1830.19 1532.44 M1825.51 1530.45 Q1822.5 1529.7 1820.82 1527.64 Q1819.15 1525.58 1819.15 1522.62 Q1819.15 1518.48 1822.09 1516.07 Q1825.05 1513.66 1830.19 1513.66 Q1835.35 1513.66 1838.29 1516.07 Q1841.23 1518.48 1841.23 1522.62 Q1841.23 1525.58 1839.54 1527.64 Q1837.88 1529.7 1834.89 1530.45 Q1838.27 1531.23 1840.14 1533.52 Q1842.04 1535.82 1842.04 1539.13 Q1842.04 1544.15 1838.96 1546.83 Q1835.91 1549.52 1830.19 1549.52 Q1824.47 1549.52 1821.39 1546.83 Q1818.34 1544.15 1818.34 1539.13 Q1818.34 1535.82 1820.24 1533.52 Q1822.13 1531.23 1825.51 1530.45 M1823.8 1523.06 Q1823.8 1525.75 1825.47 1527.25 Q1827.16 1528.76 1830.19 1528.76 Q1833.2 1528.76 1834.89 1527.25 Q1836.6 1525.75 1836.6 1523.06 Q1836.6 1520.38 1834.89 1518.87 Q1833.2 1517.37 1830.19 1517.37 Q1827.16 1517.37 1825.47 1518.87 Q1823.8 1520.38 1823.8 1523.06 Z\" fill=\"#000000\" fill-rule=\"evenodd\" fill-opacity=\"1\" /><path clip-path=\"url(#clip330)\" d=\"M2265.29 1544.91 L2272.93 1544.91 L2272.93 1518.55 L2264.62 1520.21 L2264.62 1515.95 L2272.88 1514.29 L2277.56 1514.29 L2277.56 1544.91 L2285.2 1544.91 L2285.2 1548.85 L2265.29 1548.85 L2265.29 1544.91 Z\" fill=\"#000000\" fill-rule=\"evenodd\" fill-opacity=\"1\" /><path clip-path=\"url(#clip330)\" d=\"M2304.64 1517.37 Q2301.03 1517.37 2299.2 1520.93 Q2297.39 1524.47 2297.39 1531.6 Q2297.39 1538.71 2299.2 1542.27 Q2301.03 1545.82 2304.64 1545.82 Q2308.27 1545.82 2310.08 1542.27 Q2311.91 1538.71 2311.91 1531.6 Q2311.91 1524.47 2310.08 1520.93 Q2308.27 1517.37 2304.64 1517.37 M2304.64 1513.66 Q2310.45 1513.66 2313.51 1518.27 Q2316.58 1522.85 2316.58 1531.6 Q2316.58 1540.33 2313.51 1544.94 Q2310.45 1549.52 2304.64 1549.52 Q2298.83 1549.52 2295.75 1544.94 Q2292.7 1540.33 2292.7 1531.6 Q2292.7 1522.85 2295.75 1518.27 Q2298.83 1513.66 2304.64 1513.66 Z\" fill=\"#000000\" fill-rule=\"evenodd\" fill-opacity=\"1\" /><polyline clip-path=\"url(#clip332)\" style=\"stroke:#000000; stroke-linecap:butt; stroke-linejoin:round; stroke-width:2; stroke-opacity:0.1; fill:none\" points=\"\n",
       "  156.598,1445.72 2352.76,1445.72 \n",
       "  \"/>\n",
       "<polyline clip-path=\"url(#clip332)\" style=\"stroke:#000000; stroke-linecap:butt; stroke-linejoin:round; stroke-width:2; stroke-opacity:0.1; fill:none\" points=\"\n",
       "  156.598,1113.01 2352.76,1113.01 \n",
       "  \"/>\n",
       "<polyline clip-path=\"url(#clip332)\" style=\"stroke:#000000; stroke-linecap:butt; stroke-linejoin:round; stroke-width:2; stroke-opacity:0.1; fill:none\" points=\"\n",
       "  156.598,780.303 2352.76,780.303 \n",
       "  \"/>\n",
       "<polyline clip-path=\"url(#clip332)\" style=\"stroke:#000000; stroke-linecap:butt; stroke-linejoin:round; stroke-width:2; stroke-opacity:0.1; fill:none\" points=\"\n",
       "  156.598,447.597 2352.76,447.597 \n",
       "  \"/>\n",
       "<polyline clip-path=\"url(#clip332)\" style=\"stroke:#000000; stroke-linecap:butt; stroke-linejoin:round; stroke-width:2; stroke-opacity:0.1; fill:none\" points=\"\n",
       "  156.598,114.891 2352.76,114.891 \n",
       "  \"/>\n",
       "<polyline clip-path=\"url(#clip330)\" style=\"stroke:#000000; stroke-linecap:butt; stroke-linejoin:round; stroke-width:4; stroke-opacity:1; fill:none\" points=\"\n",
       "  156.598,1486.45 156.598,47.2441 \n",
       "  \"/>\n",
       "<polyline clip-path=\"url(#clip330)\" style=\"stroke:#000000; stroke-linecap:butt; stroke-linejoin:round; stroke-width:4; stroke-opacity:1; fill:none\" points=\"\n",
       "  156.598,1445.72 175.496,1445.72 \n",
       "  \"/>\n",
       "<polyline clip-path=\"url(#clip330)\" style=\"stroke:#000000; stroke-linecap:butt; stroke-linejoin:round; stroke-width:4; stroke-opacity:1; fill:none\" points=\"\n",
       "  156.598,1113.01 175.496,1113.01 \n",
       "  \"/>\n",
       "<polyline clip-path=\"url(#clip330)\" style=\"stroke:#000000; stroke-linecap:butt; stroke-linejoin:round; stroke-width:4; stroke-opacity:1; fill:none\" points=\"\n",
       "  156.598,780.303 175.496,780.303 \n",
       "  \"/>\n",
       "<polyline clip-path=\"url(#clip330)\" style=\"stroke:#000000; stroke-linecap:butt; stroke-linejoin:round; stroke-width:4; stroke-opacity:1; fill:none\" points=\"\n",
       "  156.598,447.597 175.496,447.597 \n",
       "  \"/>\n",
       "<polyline clip-path=\"url(#clip330)\" style=\"stroke:#000000; stroke-linecap:butt; stroke-linejoin:round; stroke-width:4; stroke-opacity:1; fill:none\" points=\"\n",
       "  156.598,114.891 175.496,114.891 \n",
       "  \"/>\n",
       "<path clip-path=\"url(#clip330)\" d=\"M63.4226 1431.51 Q59.8115 1431.51 57.9828 1435.08 Q56.1773 1438.62 56.1773 1445.75 Q56.1773 1452.86 57.9828 1456.42 Q59.8115 1459.96 63.4226 1459.96 Q67.0569 1459.96 68.8624 1456.42 Q70.6911 1452.86 70.6911 1445.75 Q70.6911 1438.62 68.8624 1435.08 Q67.0569 1431.51 63.4226 1431.51 M63.4226 1427.81 Q69.2328 1427.81 72.2883 1432.42 Q75.367 1437 75.367 1445.75 Q75.367 1454.48 72.2883 1459.08 Q69.2328 1463.67 63.4226 1463.67 Q57.6125 1463.67 54.5338 1459.08 Q51.4782 1454.48 51.4782 1445.75 Q51.4782 1437 54.5338 1432.42 Q57.6125 1427.81 63.4226 1427.81 Z\" fill=\"#000000\" fill-rule=\"evenodd\" fill-opacity=\"1\" /><path clip-path=\"url(#clip330)\" d=\"M83.5845 1457.12 L88.4688 1457.12 L88.4688 1463 L83.5845 1463 L83.5845 1457.12 Z\" fill=\"#000000\" fill-rule=\"evenodd\" fill-opacity=\"1\" /><path clip-path=\"url(#clip330)\" d=\"M108.654 1431.51 Q105.043 1431.51 103.214 1435.08 Q101.409 1438.62 101.409 1445.75 Q101.409 1452.86 103.214 1456.42 Q105.043 1459.96 108.654 1459.96 Q112.288 1459.96 114.094 1456.42 Q115.922 1452.86 115.922 1445.75 Q115.922 1438.62 114.094 1435.08 Q112.288 1431.51 108.654 1431.51 M108.654 1427.81 Q114.464 1427.81 117.52 1432.42 Q120.598 1437 120.598 1445.75 Q120.598 1454.48 117.52 1459.08 Q114.464 1463.67 108.654 1463.67 Q102.844 1463.67 99.765 1459.08 Q96.7095 1454.48 96.7095 1445.75 Q96.7095 1437 99.765 1432.42 Q102.844 1427.81 108.654 1427.81 Z\" fill=\"#000000\" fill-rule=\"evenodd\" fill-opacity=\"1\" /><path clip-path=\"url(#clip330)\" d=\"M64.6495 1098.81 Q61.0384 1098.81 59.2097 1102.37 Q57.4041 1105.91 57.4041 1113.04 Q57.4041 1120.15 59.2097 1123.72 Q61.0384 1127.26 64.6495 1127.26 Q68.2837 1127.26 70.0892 1123.72 Q71.9179 1120.15 71.9179 1113.04 Q71.9179 1105.91 70.0892 1102.37 Q68.2837 1098.81 64.6495 1098.81 M64.6495 1095.1 Q70.4596 1095.1 73.5152 1099.71 Q76.5938 1104.29 76.5938 1113.04 Q76.5938 1121.77 73.5152 1126.38 Q70.4596 1130.96 64.6495 1130.96 Q58.8393 1130.96 55.7606 1126.38 Q52.7051 1121.77 52.7051 1113.04 Q52.7051 1104.29 55.7606 1099.71 Q58.8393 1095.1 64.6495 1095.1 Z\" fill=\"#000000\" fill-rule=\"evenodd\" fill-opacity=\"1\" /><path clip-path=\"url(#clip330)\" d=\"M84.8114 1124.41 L89.6956 1124.41 L89.6956 1130.29 L84.8114 1130.29 L84.8114 1124.41 Z\" fill=\"#000000\" fill-rule=\"evenodd\" fill-opacity=\"1\" /><path clip-path=\"url(#clip330)\" d=\"M100.691 1126.35 L108.33 1126.35 L108.33 1099.99 L100.02 1101.66 L100.02 1097.4 L108.283 1095.73 L112.959 1095.73 L112.959 1126.35 L120.598 1126.35 L120.598 1130.29 L100.691 1130.29 L100.691 1126.35 Z\" fill=\"#000000\" fill-rule=\"evenodd\" fill-opacity=\"1\" /><path clip-path=\"url(#clip330)\" d=\"M65.0198 766.102 Q61.4087 766.102 59.58 769.667 Q57.7745 773.208 57.7745 780.338 Q57.7745 787.444 59.58 791.009 Q61.4087 794.551 65.0198 794.551 Q68.6541 794.551 70.4596 791.009 Q72.2883 787.444 72.2883 780.338 Q72.2883 773.208 70.4596 769.667 Q68.6541 766.102 65.0198 766.102 M65.0198 762.398 Q70.83 762.398 73.8855 767.005 Q76.9642 771.588 76.9642 780.338 Q76.9642 789.065 73.8855 793.671 Q70.83 798.255 65.0198 798.255 Q59.2097 798.255 56.131 793.671 Q53.0754 789.065 53.0754 780.338 Q53.0754 771.588 56.131 767.005 Q59.2097 762.398 65.0198 762.398 Z\" fill=\"#000000\" fill-rule=\"evenodd\" fill-opacity=\"1\" /><path clip-path=\"url(#clip330)\" d=\"M85.1818 791.704 L90.066 791.704 L90.066 797.583 L85.1818 797.583 L85.1818 791.704 Z\" fill=\"#000000\" fill-rule=\"evenodd\" fill-opacity=\"1\" /><path clip-path=\"url(#clip330)\" d=\"M104.279 793.648 L120.598 793.648 L120.598 797.583 L98.6539 797.583 L98.6539 793.648 Q101.316 790.893 105.899 786.264 Q110.506 781.611 111.686 780.269 Q113.932 777.745 114.811 776.009 Q115.714 774.25 115.714 772.56 Q115.714 769.806 113.77 768.07 Q111.848 766.333 108.746 766.333 Q106.547 766.333 104.094 767.097 Q101.663 767.861 98.8854 769.412 L98.8854 764.69 Q101.709 763.556 104.163 762.977 Q106.617 762.398 108.654 762.398 Q114.024 762.398 117.219 765.083 Q120.413 767.769 120.413 772.259 Q120.413 774.389 119.603 776.31 Q118.816 778.208 116.709 780.801 Q116.131 781.472 113.029 784.69 Q109.927 787.884 104.279 793.648 Z\" fill=\"#000000\" fill-rule=\"evenodd\" fill-opacity=\"1\" /><path clip-path=\"url(#clip330)\" d=\"M64.0708 433.396 Q60.4597 433.396 58.631 436.961 Q56.8254 440.502 56.8254 447.632 Q56.8254 454.738 58.631 458.303 Q60.4597 461.845 64.0708 461.845 Q67.705 461.845 69.5105 458.303 Q71.3392 454.738 71.3392 447.632 Q71.3392 440.502 69.5105 436.961 Q67.705 433.396 64.0708 433.396 M64.0708 429.692 Q69.8809 429.692 72.9365 434.299 Q76.0151 438.882 76.0151 447.632 Q76.0151 456.359 72.9365 460.965 Q69.8809 465.548 64.0708 465.548 Q58.2606 465.548 55.1819 460.965 Q52.1264 456.359 52.1264 447.632 Q52.1264 438.882 55.1819 434.299 Q58.2606 429.692 64.0708 429.692 Z\" fill=\"#000000\" fill-rule=\"evenodd\" fill-opacity=\"1\" /><path clip-path=\"url(#clip330)\" d=\"M84.2327 458.997 L89.1169 458.997 L89.1169 464.877 L84.2327 464.877 L84.2327 458.997 Z\" fill=\"#000000\" fill-rule=\"evenodd\" fill-opacity=\"1\" /><path clip-path=\"url(#clip330)\" d=\"M113.469 446.243 Q116.825 446.96 118.7 449.229 Q120.598 451.498 120.598 454.831 Q120.598 459.947 117.08 462.747 Q113.561 465.548 107.08 465.548 Q104.904 465.548 102.589 465.109 Q100.297 464.692 97.8437 463.835 L97.8437 459.322 Q99.7882 460.456 102.103 461.034 Q104.418 461.613 106.941 461.613 Q111.339 461.613 113.631 459.877 Q115.945 458.141 115.945 454.831 Q115.945 451.775 113.793 450.062 Q111.663 448.326 107.844 448.326 L103.816 448.326 L103.816 444.484 L108.029 444.484 Q111.478 444.484 113.307 443.118 Q115.135 441.729 115.135 439.136 Q115.135 436.474 113.237 435.062 Q111.362 433.627 107.844 433.627 Q105.922 433.627 103.723 434.044 Q101.524 434.461 98.8854 435.34 L98.8854 431.174 Q101.547 430.433 103.862 430.062 Q106.2 429.692 108.26 429.692 Q113.584 429.692 116.686 432.123 Q119.788 434.53 119.788 438.65 Q119.788 441.521 118.145 443.511 Q116.501 445.479 113.469 446.243 Z\" fill=\"#000000\" fill-rule=\"evenodd\" fill-opacity=\"1\" /><path clip-path=\"url(#clip330)\" d=\"M62.9365 100.69 Q59.3254 100.69 57.4967 104.254 Q55.6912 107.796 55.6912 114.926 Q55.6912 122.032 57.4967 125.597 Q59.3254 129.138 62.9365 129.138 Q66.5707 129.138 68.3763 125.597 Q70.205 122.032 70.205 114.926 Q70.205 107.796 68.3763 104.254 Q66.5707 100.69 62.9365 100.69 M62.9365 96.9859 Q68.7467 96.9859 71.8022 101.592 Q74.8809 106.176 74.8809 114.926 Q74.8809 123.652 71.8022 128.259 Q68.7467 132.842 62.9365 132.842 Q57.1264 132.842 54.0477 128.259 Q50.9921 123.652 50.9921 114.926 Q50.9921 106.176 54.0477 101.592 Q57.1264 96.9859 62.9365 96.9859 Z\" fill=\"#000000\" fill-rule=\"evenodd\" fill-opacity=\"1\" /><path clip-path=\"url(#clip330)\" d=\"M83.0984 126.291 L87.9827 126.291 L87.9827 132.171 L83.0984 132.171 L83.0984 126.291 Z\" fill=\"#000000\" fill-rule=\"evenodd\" fill-opacity=\"1\" /><path clip-path=\"url(#clip330)\" d=\"M111.015 101.685 L99.2095 120.134 L111.015 120.134 L111.015 101.685 M109.788 97.6109 L115.668 97.6109 L115.668 120.134 L120.598 120.134 L120.598 124.023 L115.668 124.023 L115.668 132.171 L111.015 132.171 L111.015 124.023 L95.4132 124.023 L95.4132 119.509 L109.788 97.6109 Z\" fill=\"#000000\" fill-rule=\"evenodd\" fill-opacity=\"1\" /><polyline clip-path=\"url(#clip332)\" style=\"stroke:#009af9; stroke-linecap:butt; stroke-linejoin:round; stroke-width:4; stroke-opacity:1; fill:none\" points=\"\n",
       "  218.754,1261.9 223.812,1253.69 228.87,1245.21 233.929,1236.45 238.987,1227.42 262.373,1181.99 285.758,1130.36 309.144,1072.51 332.53,1008.57 379.301,864.251 \n",
       "  426.073,703.558 482.288,503.514 538.504,318.793 562.268,251.799 586.033,194.23 609.798,147.792 633.562,113.899 659.378,92.5183 685.193,87.9763 711.008,100.443 \n",
       "  736.823,129.452 760.622,169.934 784.422,222.317 808.221,285.021 832.02,356.218 883.051,528.163 934.081,710.026 963.643,812.784 993.205,910.096 1022.77,999.859 \n",
       "  1052.33,1080.65 1078.6,1144.27 1104.87,1200.03 1131.14,1248.07 1157.41,1288.77 1180.45,1318.86 1203.49,1344.21 1226.53,1365.3 1249.56,1382.65 1299.8,1409.85 \n",
       "  1350.03,1426.27 1400.57,1435.7 1451.1,1440.8 1562.84,1444.86 1669.16,1445.58 1779.7,1445.7 1872.76,1445.71 1986.37,1445.72 2093.17,1445.72 2264.27,1445.72 \n",
       "  2290.6,1445.72 \n",
       "  \"/>\n",
       "<path clip-path=\"url(#clip330)\" d=\"\n",
       "M1987.12 198.898 L2279.55 198.898 L2279.55 95.2176 L1987.12 95.2176  Z\n",
       "  \" fill=\"#ffffff\" fill-rule=\"evenodd\" fill-opacity=\"1\"/>\n",
       "<polyline clip-path=\"url(#clip330)\" style=\"stroke:#000000; stroke-linecap:butt; stroke-linejoin:round; stroke-width:4; stroke-opacity:1; fill:none\" points=\"\n",
       "  1987.12,198.898 2279.55,198.898 2279.55,95.2176 1987.12,95.2176 1987.12,198.898 \n",
       "  \"/>\n",
       "<polyline clip-path=\"url(#clip330)\" style=\"stroke:#009af9; stroke-linecap:butt; stroke-linejoin:round; stroke-width:4; stroke-opacity:1; fill:none\" points=\"\n",
       "  2011.12,147.058 2155.12,147.058 \n",
       "  \"/>\n",
       "<path clip-path=\"url(#clip330)\" d=\"M2192.96 166.745 Q2191.16 171.375 2189.44 172.787 Q2187.73 174.199 2184.86 174.199 L2181.46 174.199 L2181.46 170.634 L2183.96 170.634 Q2185.72 170.634 2186.69 169.8 Q2187.66 168.967 2188.84 165.865 L2189.61 163.921 L2179.12 138.412 L2183.63 138.412 L2191.74 158.689 L2199.84 138.412 L2204.35 138.412 L2192.96 166.745 Z\" fill=\"#000000\" fill-rule=\"evenodd\" fill-opacity=\"1\" /><path clip-path=\"url(#clip330)\" d=\"M2211.64 160.402 L2219.28 160.402 L2219.28 134.037 L2210.97 135.703 L2210.97 131.444 L2219.24 129.778 L2223.91 129.778 L2223.91 160.402 L2231.55 160.402 L2231.55 164.338 L2211.64 164.338 L2211.64 160.402 Z\" fill=\"#000000\" fill-rule=\"evenodd\" fill-opacity=\"1\" /></svg>\n"
      ]
     },
     "execution_count": 23,
     "metadata": {},
     "output_type": "execute_result"
    }
   ],
   "source": [
    "plt.plot(x -> pdf(F,x),1,10)"
   ]
  },
  {
   "cell_type": "code",
   "execution_count": 24,
   "id": "a93f8b6d",
   "metadata": {},
   "outputs": [
    {
     "data": {
      "text/plain": [
       "0.29244046596551004"
      ]
     },
     "execution_count": 24,
     "metadata": {},
     "output_type": "execute_result"
    }
   ],
   "source": [
    "#probability loss aversion param below 2.5 given mean and std\n",
    "cdf(F,2.5)"
   ]
  },
  {
   "cell_type": "code",
   "execution_count": 25,
   "id": "a974b223",
   "metadata": {},
   "outputs": [
    {
     "data": {
      "text/plain": [
       "0.3602613193145302"
      ]
     },
     "execution_count": 25,
     "metadata": {},
     "output_type": "execute_result"
    }
   ],
   "source": [
    "#likelihood of seeing a loss aversion param of 2.5 given mean and std\n",
    "pdf(F,2.5)"
   ]
  },
  {
   "cell_type": "markdown",
   "id": "0950d8a2",
   "metadata": {},
   "source": [
    "### Finding G($\\lambda$) aka F in our code"
   ]
  },
  {
   "cell_type": "code",
   "execution_count": 26,
   "id": "bc472c87",
   "metadata": {},
   "outputs": [],
   "source": [
    "# Offers in vector form, divided by 55 to get the offer share\n",
    "s = (values(subset1[\"value\"])/55);"
   ]
  },
  {
   "cell_type": "code",
   "execution_count": 27,
   "id": "de3adc62",
   "metadata": {},
   "outputs": [],
   "source": [
    "#parameters\n",
    "alph = .2 #competitiveness term\n",
    "r = 5/55; #reference offer (close to the minimum offer share observed in the data)"
   ]
  },
  {
   "cell_type": "code",
   "execution_count": 28,
   "id": "355ad3bf",
   "metadata": {},
   "outputs": [
    {
     "data": {
      "text/plain": [
       "2.5"
      ]
     },
     "execution_count": 28,
     "metadata": {},
     "output_type": "execute_result"
    }
   ],
   "source": [
    "#x = (r-s.5)/r\n",
    "x = zeros(0)\n",
    "for i in s\n",
    "    append!(x,(r-i+.5)/r)\n",
    "end\n",
    "x[1]"
   ]
  },
  {
   "cell_type": "code",
   "execution_count": 29,
   "id": "4afda0fa",
   "metadata": {},
   "outputs": [
    {
     "data": {
      "text/plain": [
       "0.70755953403449"
      ]
     },
     "execution_count": 29,
     "metadata": {},
     "output_type": "execute_result"
    }
   ],
   "source": [
    "Q = ones(422)-cdf(F,x)\n",
    "Q[1]"
   ]
  },
  {
   "cell_type": "code",
   "execution_count": 30,
   "id": "20acec7e",
   "metadata": {},
   "outputs": [
    {
     "data": {
      "text/plain": [
       "0.3602613193145302"
      ]
     },
     "execution_count": 30,
     "metadata": {},
     "output_type": "execute_result"
    }
   ],
   "source": [
    "dQ = zeros(0)\n",
    "for i in x\n",
    "    append!(dQ,pdf(F,i))\n",
    "end\n",
    "dQ[1]"
   ]
  },
  {
   "cell_type": "markdown",
   "id": "5e261038",
   "metadata": {},
   "source": [
    "$$\n",
    "\\lambda = \\frac{2Q(s)(1+2\\alpha)}{Q^\\prime(s)} - 2(1-s(1+2\\alpha)) + 1 \n",
    "$$"
   ]
  },
  {
   "cell_type": "code",
   "execution_count": 31,
   "id": "06bd4e84",
   "metadata": {},
   "outputs": [
    {
     "data": {
      "text/plain": [
       "422-element Vector{Float64}:\n",
       "  5.517430805184199\n",
       "  5.517430805184199\n",
       "  5.517430805184199\n",
       "  5.517430805184199\n",
       "  5.517430805184199\n",
       "  5.517430805184199\n",
       "  5.517430805184199\n",
       "  5.517430805184199\n",
       "  2.619690177323489\n",
       "  2.619690177323489\n",
       "  2.619690177323489\n",
       "  2.619690177323489\n",
       "  2.619690177323489\n",
       "  ⋮\n",
       "  5.517430805184199\n",
       "  5.517430805184199\n",
       "  5.517430805184199\n",
       "  5.517430805184199\n",
       "  5.517430805184199\n",
       "  5.517430805184199\n",
       " 20.447127693096665\n",
       " 20.447127693096665\n",
       " 20.447127693096665\n",
       " Inf\n",
       " 41.82177341101033\n",
       "  5.517430805184199"
      ]
     },
     "execution_count": 31,
     "metadata": {},
     "output_type": "execute_result"
    }
   ],
   "source": [
    "lambda = zeros(0)\n",
    "for i in s\n",
    "    append!(lambda,(((2*(1 - cdf(F,(r-i+.5)/r)))*(1 + 2*alph))/pdf(F,(r-i+.5)/r) - 2*(1 - i*(1 + 2*alph)) + 1))\n",
    "end\n",
    "lambda"
   ]
  },
  {
   "cell_type": "markdown",
   "id": "ca8ed1b2",
   "metadata": {},
   "source": [
    "### Log Likelihood Estimation"
   ]
  },
  {
   "cell_type": "code",
   "execution_count": 45,
   "id": "acfdf3e3",
   "metadata": {},
   "outputs": [
    {
     "data": {
      "text/plain": [
       "LL (generic function with 1 method)"
      ]
     },
     "execution_count": 45,
     "metadata": {},
     "output_type": "execute_result"
    }
   ],
   "source": [
    "#Haven't quite figured out what to do yet, what are we comparing our distribution of lambdas to?\n",
    "function LL(params,offers)\n",
    "    F = TruncatedNormal(params[1],params[2],1,Inf)\n",
    "    lambda=zeros(0)\n",
    "    loglike=0\n",
    "    for i in offers\n",
    "        append!(lambda,(((2*(1 - cdf(F,(r-i+.5)/r)))*(1 + 2*alph))/pdf(F,(r-i+.5)/r) - 2*(1 - i*(1 + 2*alph)) + 1))\n",
    "    end\n",
    "    for i in lambda\n",
    "        loglike = loglike+log(pdf(F,i))\n",
    "    end\n",
    "    return -loglike\n",
    "    end"
   ]
  },
  {
   "cell_type": "code",
   "execution_count": 46,
   "id": "b670e3c0",
   "metadata": {},
   "outputs": [
    {
     "data": {
      "text/plain": [
       " * Status: success\n",
       "\n",
       " * Candidate solution\n",
       "    Final objective value:     Inf\n",
       "\n",
       " * Found with\n",
       "    Algorithm:     Nelder-Mead\n",
       "\n",
       " * Convergence measures\n",
       "    √(Σ(yᵢ-ȳ)²)/n ≰ 1.0e-08\n",
       "\n",
       " * Work counters\n",
       "    Seconds run:   0  (vs limit Inf)\n",
       "    Iterations:    0\n",
       "    f(x) calls:    4\n"
      ]
     },
     "execution_count": 46,
     "metadata": {},
     "output_type": "execute_result"
    }
   ],
   "source": [
    "res = optimize(params -> LL(params, s), [3, 0.2])"
   ]
  },
  {
   "cell_type": "code",
   "execution_count": 41,
   "id": "15ddb31e",
   "metadata": {},
   "outputs": [
    {
     "ename": "LoadError",
     "evalue": "ArgumentError: invalid index: 5.517430805184199 of type Float64",
     "output_type": "error",
     "traceback": [
      "ArgumentError: invalid index: 5.517430805184199 of type Float64",
      "",
      "Stacktrace:",
      " [1] to_index(i::Float64)",
      "   @ Base ./indices.jl:300",
      " [2] to_index(A::Vector{Float64}, i::Float64)",
      "   @ Base ./indices.jl:277",
      " [3] to_indices",
      "   @ ./indices.jl:333 [inlined]",
      " [4] to_indices",
      "   @ ./indices.jl:325 [inlined]",
      " [5] getindex",
      "   @ ./abstractarray.jl:1218 [inlined]",
      " [6] LL(params::Vector{Int64}, offers::Vector{Float64})",
      "   @ Main ./In[39]:10",
      " [7] top-level scope",
      "   @ In[41]:1",
      " [8] eval",
      "   @ ./boot.jl:373 [inlined]",
      " [9] include_string(mapexpr::typeof(REPL.softscope), mod::Module, code::String, filename::String)",
      "   @ Base ./loading.jl:1196"
     ]
    }
   ],
   "source": [
    "show(LL([3,1],s))"
   ]
  },
  {
   "cell_type": "code",
   "execution_count": null,
   "id": "07bdba89",
   "metadata": {},
   "outputs": [],
   "source": [
    "show(l([.3,.2],data))"
   ]
  },
  {
   "cell_type": "code",
   "execution_count": 47,
   "id": "e16c3d70",
   "metadata": {},
   "outputs": [
    {
     "data": {
      "text/plain": [
       "2-element Vector{Float64}:\n",
       " 3.0\n",
       " 0.2"
      ]
     },
     "execution_count": 47,
     "metadata": {},
     "output_type": "execute_result"
    }
   ],
   "source": [
    "pair = Optim.minimizer(res)"
   ]
  },
  {
   "cell_type": "code",
   "execution_count": null,
   "id": "2461abc3",
   "metadata": {},
   "outputs": [],
   "source": [
    "best = TruncatedNormal(pair[1],pair[2],0,1)"
   ]
  },
  {
   "cell_type": "code",
   "execution_count": null,
   "id": "fa97ded1",
   "metadata": {},
   "outputs": [],
   "source": []
  }
 ],
 "metadata": {
  "kernelspec": {
   "display_name": "Julia 1.7.1",
   "language": "julia",
   "name": "julia-1.7"
  },
  "language_info": {
   "file_extension": ".jl",
   "mimetype": "application/julia",
   "name": "julia",
   "version": "1.7.1"
  }
 },
 "nbformat": 4,
 "nbformat_minor": 5
}
